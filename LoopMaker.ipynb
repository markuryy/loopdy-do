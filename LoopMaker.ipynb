{
  "nbformat": 4,
  "nbformat_minor": 0,
  "metadata": {
    "colab": {
      "provenance": [],
      "authorship_tag": "ABX9TyOFetL6EkQFE0R5+ty5IK7M",
      "include_colab_link": true
    },
    "kernelspec": {
      "name": "python3",
      "display_name": "Python 3"
    },
    "language_info": {
      "name": "python"
    }
  },
  "cells": [
    {
      "cell_type": "markdown",
      "metadata": {
        "id": "view-in-github",
        "colab_type": "text"
      },
      "source": [
        "<a href=\"https://colab.research.google.com/github/markuryy/loopdy-do/blob/main/LoopMaker.ipynb\" target=\"_parent\"><img src=\"https://colab.research.google.com/assets/colab-badge.svg\" alt=\"Open In Colab\"/></a>"
      ]
    },
    {
      "cell_type": "code",
      "execution_count": null,
      "metadata": {
        "id": "fDkZOwBYCZ2H"
      },
      "outputs": [],
      "source": [
        "# Install necessary libraries\n",
        "!pip install torch torchvision moviepy\n",
        "\n",
        "# Import libraries\n",
        "import torch\n",
        "from torchvision import models, transforms\n",
        "from moviepy.editor import VideoFileClip, concatenate_videoclips\n",
        "import numpy as np\n",
        "from PIL import Image\n",
        "from scipy.spatial.distance import cosine\n",
        "from datetime import timedelta\n",
        "import matplotlib.pyplot as plt\n",
        "from google.colab import files\n"
      ]
    },
    {
      "cell_type": "code",
      "source": [
        "uploaded = files.upload()\n",
        "video_filename = next(iter(uploaded))\n"
      ],
      "metadata": {
        "id": "UBitDaemCgMF"
      },
      "execution_count": null,
      "outputs": []
    },
    {
      "cell_type": "code",
      "source": [
        "class FeatureExtractor:\n",
        "    def __init__(self):\n",
        "        self.device = torch.device(\"cuda\" if torch.cuda.is_available() else \"cpu\")\n",
        "        self.model = models.resnet50(pretrained=True)\n",
        "        self.model = self.model.to(self.device)\n",
        "        self.model.eval()\n",
        "        self.transform = transforms.Compose([\n",
        "            transforms.Resize((224, 224)),\n",
        "            transforms.ToTensor(),\n",
        "            transforms.Normalize(mean=[0.485, 0.456, 0.406], std=[0.229, 0.224, 0.225]),\n",
        "        ])\n",
        "\n",
        "    def extract_features(self, image):\n",
        "        image = self.transform(image).unsqueeze(0).to(self.device)\n",
        "        with torch.no_grad():\n",
        "            features = self.model(image)\n",
        "        return features.squeeze().cpu().numpy()\n"
      ],
      "metadata": {
        "id": "8Og7a46hChsY"
      },
      "execution_count": null,
      "outputs": []
    },
    {
      "cell_type": "code",
      "source": [
        "def load_video(video_path):\n",
        "    video = VideoFileClip(video_path)\n",
        "    return video\n",
        "\n",
        "def get_video_frames(video, every_n_frames=30):\n",
        "    total_frames = int(video.fps * video.duration)\n",
        "    frames = [video.get_frame(i / video.fps) for i in range(0, total_frames, every_n_frames)]\n",
        "    return frames\n",
        "\n",
        "def extract_features_from_frames(frames, feature_extractor):\n",
        "    features = []\n",
        "    for frame in frames:\n",
        "        pil_image = Image.fromarray(frame.astype('uint8'), 'RGB')\n",
        "        feature = feature_extractor.extract_features(pil_image)\n",
        "        features.append(feature)\n",
        "    return features\n",
        "\n",
        "video = load_video(video_filename)\n",
        "frames = get_video_frames(video)\n",
        "extractor = FeatureExtractor()\n",
        "features = extract_features_from_frames(frames, extractor)\n"
      ],
      "metadata": {
        "id": "P2YDHFZvCjQ9"
      },
      "execution_count": null,
      "outputs": []
    },
    {
      "cell_type": "code",
      "source": [
        "def find_potential_loops(features, threshold=0.1):\n",
        "    loop_candidates = []\n",
        "    for i in range(len(features)):\n",
        "        for j in range(i + 1, len(features)):\n",
        "            similarity = 1 - cosine(features[i], features[j])\n",
        "            if similarity > threshold:\n",
        "                loop_candidates.append((i, j, similarity))\n",
        "    loop_candidates.sort(key=lambda x: x[2], reverse=True)\n",
        "    return loop_candidates\n",
        "\n",
        "loops = find_potential_loops(features)\n"
      ],
      "metadata": {
        "id": "e9OC4moCClU0"
      },
      "execution_count": null,
      "outputs": []
    },
    {
      "cell_type": "code",
      "source": [
        "def display_loops(loops, frames_per_second):\n",
        "    top_loops = loops[:10]  # Limit to top 10 loops\n",
        "    for index, (start, end, similarity) in enumerate(top_loops):\n",
        "        start_time = timedelta(seconds=(start * 30 / frames_per_second))\n",
        "        end_time = timedelta(seconds=(end * 30 / frames_per_second))\n",
        "        duration = timedelta(seconds=((end - start) * 30 / frames_per_second))\n",
        "        print(f\"{index}: Start: {start_time}, End: {end_time}, Duration: {duration}, Similarity: {similarity}\")\n",
        "\n",
        "display_loops(loops, video.fps)\n"
      ],
      "metadata": {
        "id": "bxryM9UVCmsS"
      },
      "execution_count": null,
      "outputs": []
    },
    {
      "cell_type": "code",
      "source": [
        "# Manual selection of the best loop\n",
        "selected_index = int(input(\"Enter the index of the best loop: \"))\n",
        "\n",
        "# Choose output format and specify a custom filename\n",
        "output_format = input(\"Enter the desired format (mp4/gif): \").lower()\n",
        "filename = input(\"Enter a filename (without extension): \")\n",
        "if output_format not in ['mp4', 'gif']:\n",
        "    print(\"Invalid format selected. Defaulting to mp4.\")\n",
        "    output_format = 'mp4'\n"
      ],
      "metadata": {
        "id": "qZBFCrWXDgmv"
      },
      "execution_count": null,
      "outputs": []
    },
    {
      "cell_type": "code",
      "source": [
        "# Extract the selected loop's start and end times\n",
        "selected_loop = loops[selected_index]\n",
        "start_frame, end_frame, _ = selected_loop\n",
        "start_time, end_time = start_frame * 30 / video.fps, end_frame * 30 / video.fps\n",
        "\n",
        "# Export loop as MP4 or GIF based on user choice\n",
        "loop_clip = video.subclip(start_time, end_time)\n",
        "\n",
        "if output_format == 'mp4':\n",
        "    output_filename = f\"{filename}.mp4\"\n",
        "    loop_clip.write_videofile(output_filename, codec=\"libx264\", audio_codec=\"aac\")\n",
        "elif output_format == 'gif':\n",
        "    output_filename = f\"{filename}.gif\"\n",
        "    loop_clip.resize(width=800).write_gif(output_filename, fps=20)\n",
        "\n",
        "# Download the output file\n",
        "files.download(output_filename)\n"
      ],
      "metadata": {
        "id": "aB5B2stKDj7X"
      },
      "execution_count": null,
      "outputs": []
    }
  ]
}